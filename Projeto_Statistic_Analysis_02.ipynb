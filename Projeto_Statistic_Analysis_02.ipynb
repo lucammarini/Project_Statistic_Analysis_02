{
  "nbformat": 4,
  "nbformat_minor": 0,
  "metadata": {
    "colab": {
      "name": "Projeto_Statistic_Analysis_02",
      "provenance": []
    },
    "kernelspec": {
      "name": "python3",
      "display_name": "Python 3"
    },
    "language_info": {
      "name": "python"
    }
  },
  "cells": [
    {
      "cell_type": "markdown",
      "source": [
        "# **PROJETO - ANÁLISE ESTATÍSTICA DE PREÇOS DE UMA DIETA SAUDÁVEL MUNDIAL**\n",
        "\n",
        "FONTE: https://databank.worldbank.org/source/food-prices-for-nutrition#"
      ],
      "metadata": {
        "id": "3MmbzUXltwHU"
      }
    },
    {
      "cell_type": "markdown",
      "source": [
        "## **CONECTAR COM O GOOGLE DRIVE PARA CAPTAR OS BANCOS DE DADOS**"
      ],
      "metadata": {
        "id": "KfoMUJCzt2MZ"
      }
    },
    {
      "cell_type": "code",
      "execution_count": 101,
      "metadata": {
        "colab": {
          "base_uri": "https://localhost:8080/"
        },
        "id": "7DZiBqFntVn_",
        "outputId": "91cca3a6-ef8d-4800-d3c4-31f888c5f9ab"
      },
      "outputs": [
        {
          "output_type": "stream",
          "name": "stdout",
          "text": [
            "Drive already mounted at /content/drive; to attempt to forcibly remount, call drive.mount(\"/content/drive\", force_remount=True).\n"
          ]
        }
      ],
      "source": [
        "# conecta o colab ao google drive\n",
        "\n",
        "from google.colab import drive\n",
        "drive.mount('/content/drive')"
      ]
    },
    {
      "cell_type": "markdown",
      "source": [
        "## **IMPORTS DE BIBLIOTECAS**"
      ],
      "metadata": {
        "id": "16m1BcVAt-4R"
      }
    },
    {
      "cell_type": "markdown",
      "source": [
        "###BIBLIOTECA DE ANÁLISE DE TEMPO DE EXECUÇÃO DO SCRIPT"
      ],
      "metadata": {
        "id": "bfQsYW81uZau"
      }
    },
    {
      "cell_type": "code",
      "source": [
        "# Cronometra o tempo de execução do programa\n",
        "\n",
        "import time\n",
        "start_script = time.time()"
      ],
      "metadata": {
        "id": "fjFPPKIDteA_"
      },
      "execution_count": 102,
      "outputs": []
    },
    {
      "cell_type": "markdown",
      "source": [
        "###BIBLIOTECAS RESTANTES"
      ],
      "metadata": {
        "id": "uFy_FsgzuedY"
      }
    },
    {
      "cell_type": "code",
      "source": [
        "# Importa as bibliotecas necessárias\n",
        "\n",
        "from datetime import datetime, date\n",
        "import pandas as pd\n",
        "import matplotlib.pyplot as plt\n",
        "from matplotlib.pyplot import figure\n",
        "import numpy as np\n",
        "from scipy.stats import normaltest\n",
        "from scipy.stats import t\n",
        "from scipy import stats\n"
      ],
      "metadata": {
        "id": "N9G8KdFTtiXo"
      },
      "execution_count": 103,
      "outputs": []
    },
    {
      "cell_type": "markdown",
      "source": [
        "##**FUNÇÕES**"
      ],
      "metadata": {
        "id": "931PQvNJxDP_"
      }
    },
    {
      "cell_type": "code",
      "source": [
        "def ler_csv(name_csv):\n",
        "  df = pd.read_csv(bd_local + '/' + name_csv, header=0, sep = ',', skiprows=0, decimal='.')\n",
        "  return df"
      ],
      "metadata": {
        "id": "2QmkukHoxFOZ"
      },
      "execution_count": 104,
      "outputs": []
    },
    {
      "cell_type": "code",
      "source": [
        "def formatar_titulo(text):\n",
        "  words = text.split(\" \")\n",
        "  total_string = \"\"\n",
        "  for counter, word in enumerate(words):\n",
        "    if counter>0 and counter % 5 == 0:\n",
        "      total_string +=\"\\n{}\".format(word)\n",
        "    else:\n",
        "      total_string +=\" {}\".format(word)\n",
        "  return total_string.lstrip()"
      ],
      "metadata": {
        "id": "_9zH4bQIxd9v"
      },
      "execution_count": 105,
      "outputs": []
    },
    {
      "cell_type": "markdown",
      "source": [
        "##**CAPTAÇÃO DE DADOS**"
      ],
      "metadata": {
        "id": "U5PqBDW8uTbv"
      }
    },
    {
      "cell_type": "code",
      "source": [
        "bd_geral = '/content/drive/MyDrive/..Python_Codes/Projeto_Statistic_Analysis_02/'\n",
        "bd_local = bd_geral + 'BD'\n",
        "df = ler_csv('284237fa-aba2-47ac-8849-78684c638d57_Data.csv')\n",
        "# df#.head()"
      ],
      "metadata": {
        "id": "WfYuND5UwXOy"
      },
      "execution_count": 106,
      "outputs": []
    },
    {
      "cell_type": "markdown",
      "source": [
        "## **TRATAMENTO DE DADOS**"
      ],
      "metadata": {
        "id": "eWMvgk1GuHIN"
      }
    },
    {
      "cell_type": "code",
      "source": [
        "df.drop('Country Code',  axis='columns', inplace=True)    # remove colunas desnecessárias\n",
        "df.drop('Classification Name',  axis='columns', inplace=True)    # remove colunas desnecessárias\n",
        "df.drop('Classification Code',  axis='columns', inplace=True)    # remove colunas desnecessárias\n",
        "df.drop('Time Code',  axis='columns', inplace=True)    # remove colunas desnecessárias\n",
        "\n",
        "# Remove NaN:\n",
        "# df.replace('..', np.nan, inplace=True)\n",
        "# df.replace(0, np.nan, inplace=True)\n",
        "df = df[df['Country Name'].notna()]\n",
        "# df.drop('Country Name',  axis='columns', inplace=True)    # remove colunas desnecessárias\n",
        "\n",
        "# df"
      ],
      "metadata": {
        "id": "ZyN-FQ7PI3L2"
      },
      "execution_count": 107,
      "outputs": []
    },
    {
      "cell_type": "code",
      "source": [
        "# rearranjando dados\n",
        "df_2017 = df.copy()\n",
        "df_2017.replace(2018, np.nan, inplace=True)\n",
        "df_2017.replace(2019, np.nan, inplace=True)\n",
        "df_2017.replace(2020, np.nan, inplace=True)\n",
        "df_2017.replace('..', np.nan, inplace=True)\n",
        "df_2017 = df_2017[df_2017['Time'].notna()]\n",
        "df_2017.drop('Country Name',  axis='columns', inplace=True)    # remove colunas desnecessárias\n",
        "df_2017.drop('Time',  axis='columns', inplace=True)    # remove colunas desnecessárias\n",
        "lista_2017 = list(df_2017['Cost of a healthy diet [CoHD]'])\n",
        "                  \n",
        "df_2018 = df.copy()\n",
        "df_2018.replace(2017, np.nan, inplace=True)\n",
        "df_2018.replace(2019, np.nan, inplace=True)\n",
        "df_2018.replace(2020, np.nan, inplace=True)\n",
        "df_2018.replace('..', np.nan, inplace=True)\n",
        "df_2018 = df_2018[df_2018['Time'].notna()]\n",
        "df_2018.drop('Country Name',  axis='columns', inplace=True)    # remove colunas desnecessárias\n",
        "df_2018.drop('Time',  axis='columns', inplace=True)    # remove colunas desnecessárias\n",
        "lista_2018 = list(df_2018['Cost of a healthy diet [CoHD]'])\n",
        "     \n",
        "df_2019 = df.copy()\n",
        "df_2019.replace(2017, np.nan, inplace=True)\n",
        "df_2019.replace(2018, np.nan, inplace=True)\n",
        "df_2019.replace(2020, np.nan, inplace=True)\n",
        "df_2019.replace('..', np.nan, inplace=True)\n",
        "df_2019 = df_2019[df_2019['Time'].notna()]\n",
        "df_2019.drop('Country Name',  axis='columns', inplace=True)    # remove colunas desnecessárias\n",
        "df_2019.drop('Time',  axis='columns', inplace=True)    # remove colunas desnecessárias\n",
        "lista_2019 = list(df_2019['Cost of a healthy diet [CoHD]'])\n",
        "     \n",
        "df_2020 = df.copy()\n",
        "df_2020.replace(2017, np.nan, inplace=True)\n",
        "df_2020.replace(2018, np.nan, inplace=True)\n",
        "df_2020.replace(2019, np.nan, inplace=True)\n",
        "df_2020.replace('..', np.nan, inplace=True)\n",
        "df_2020 = df_2020[df_2020['Time'].notna()]\n",
        "df_2020.drop('Country Name',  axis='columns', inplace=True)    # remove colunas desnecessárias\n",
        "df_2020.drop('Time',  axis='columns', inplace=True)    # remove colunas desnecessárias\n",
        "lista_2020 = list(df_2020['Cost of a healthy diet [CoHD]'])"
      ],
      "metadata": {
        "id": "HGVdB3vfKeFW"
      },
      "execution_count": 108,
      "outputs": []
    },
    {
      "cell_type": "code",
      "source": [
        "df = pd.DataFrame({'2017': lista_2017,\n",
        "                   '2018': lista_2018,\n",
        "                   '2019': lista_2019,\n",
        "                   '2020': lista_2020,\n",
        "                   })"
      ],
      "metadata": {
        "id": "-EfFawcoUbvB"
      },
      "execution_count": 109,
      "outputs": []
    },
    {
      "cell_type": "code",
      "source": [
        "\n",
        "\n",
        "# transposição\n",
        "# df = df.transpose()                                       # transpõe o dataframe para facilitar a visualização\n",
        "# new_header = df.iloc[0]                                   #grab the first row for the header\n",
        "# df = df[1:]                                               #take the data less the header row\n",
        "# df.columns = new_header                                   #set the header row as the df header\n",
        "\n",
        "# renomear colunas\n",
        "# # colunas1 = ['País']\n",
        "# colunas2 = list(range(2017,2020+1))\n",
        "# for n in colunas2:\n",
        "#   colunas1.append(str(n))\n",
        "\n",
        "# df.columns = colunas1\n",
        "\n",
        "\n",
        "# df"
      ],
      "metadata": {
        "id": "J0AfmPeOzVCB"
      },
      "execution_count": 110,
      "outputs": []
    },
    {
      "cell_type": "code",
      "source": [
        "# passando os valores do datafame de 'string' para 'float':\n",
        "df = df.astype(float)"
      ],
      "metadata": {
        "id": "RHFqtO_Hqy8B"
      },
      "execution_count": 111,
      "outputs": []
    },
    {
      "cell_type": "markdown",
      "source": [
        "### **REMOÇÃO DE OUTLIERS E DADOS FORA DA CURVA**"
      ],
      "metadata": {
        "id": "57wo5VxdA5Dp"
      }
    },
    {
      "cell_type": "code",
      "source": [
        "df[df > 4.0] = np.nan\n",
        "df[df < 2.2] = np.nan"
      ],
      "metadata": {
        "id": "uZ44jaMKA7HX"
      },
      "execution_count": 112,
      "outputs": []
    },
    {
      "cell_type": "markdown",
      "source": [
        "### TESTE DE NORMALIDADE"
      ],
      "metadata": {
        "id": "UFDaSoZ0QVjd"
      }
    },
    {
      "cell_type": "code",
      "source": [
        "significancia = 0.05  # 95% de confiabilidade\n",
        "lista_pvalor = []\n",
        "lista_pvalor_bool = []\n",
        "\n",
        "for n in df.columns:\n",
        "  if df[n].count() > 8:\n",
        "    pvalor = normaltest(df[n].dropna())[1] # retorna a estatistica de teste e o p-valor (precisa remover os NaN)\n",
        "    lista_pvalor.append(pvalor)\n",
        "    if pvalor > significancia:\n",
        "      lista_pvalor_bool.append('Sim')\n",
        "    else:\n",
        "      lista_pvalor_bool.append('Não')\n",
        "  else:\n",
        "    df.drop(n,  axis='columns', inplace=True)    # remove colunas com menos de 8 dados\n",
        "\n",
        "\n",
        "# df_resumo"
      ],
      "metadata": {
        "id": "8yIlMF7zQcZK"
      },
      "execution_count": 113,
      "outputs": []
    },
    {
      "cell_type": "markdown",
      "source": [
        "### RESUMO"
      ],
      "metadata": {
        "id": "qb7uhLOpCCXH"
      }
    },
    {
      "cell_type": "code",
      "source": [
        "# criação de dataframe de resumo dos dados:\n",
        "lista_index = list(df.columns)\n",
        "lista_media = []\n",
        "lista_dp = []\n",
        "lista_num_amostras = []\n",
        "\n",
        "for n in range(0, len(df.columns)):\n",
        "  lista_media.append(df[df.columns[n]].mean())\n",
        "  lista_dp.append(df[df.columns[n]].std())\n",
        "  lista_num_amostras.append(df[df.columns[n]].count())\n",
        "\n",
        "df_resumo = pd.DataFrame({'Ano': lista_index, \n",
        "                         'Média':lista_media, \n",
        "                         'Desvio Padrão': lista_dp,\n",
        "                          'Amostras': lista_num_amostras})\n",
        "\n",
        "df_resumo[\"Variabilidade (%)\"] = 100*df_resumo['Desvio Padrão']/df_resumo['Média']\n",
        "\n",
        "df_resumo['p-Valor (normal test)'] = lista_pvalor\n",
        "df_resumo['É Normal? (95% signif.)'] = lista_pvalor_bool\n",
        "\n",
        "df_resumo"
      ],
      "metadata": {
        "id": "gqbd4G6L48rC",
        "colab": {
          "base_uri": "https://localhost:8080/",
          "height": 175
        },
        "outputId": "ae8feeea-9693-456a-8f3d-b3b960d0b699"
      },
      "execution_count": 114,
      "outputs": [
        {
          "output_type": "execute_result",
          "data": {
            "text/plain": [
              "    Ano     Média  Desvio Padrão  Amostras  Variabilidade (%)  \\\n",
              "0  2017  3.153090       0.417846       155          13.251937   \n",
              "1  2018  3.171047       0.429366       149          13.540194   \n",
              "2  2019  3.200630       0.430789       143          13.459519   \n",
              "3  2020  3.252429       0.389586       133          11.978324   \n",
              "\n",
              "   p-Valor (normal test) É Normal? (95% signif.)  \n",
              "0               0.055735                     Sim  \n",
              "1               0.038369                     Não  \n",
              "2               0.024888                     Não  \n",
              "3               0.136786                     Sim  "
            ],
            "text/html": [
              "\n",
              "  <div id=\"df-f35c0a62-7d6b-40b5-a2e2-30479b9bd63c\">\n",
              "    <div class=\"colab-df-container\">\n",
              "      <div>\n",
              "<style scoped>\n",
              "    .dataframe tbody tr th:only-of-type {\n",
              "        vertical-align: middle;\n",
              "    }\n",
              "\n",
              "    .dataframe tbody tr th {\n",
              "        vertical-align: top;\n",
              "    }\n",
              "\n",
              "    .dataframe thead th {\n",
              "        text-align: right;\n",
              "    }\n",
              "</style>\n",
              "<table border=\"1\" class=\"dataframe\">\n",
              "  <thead>\n",
              "    <tr style=\"text-align: right;\">\n",
              "      <th></th>\n",
              "      <th>Ano</th>\n",
              "      <th>Média</th>\n",
              "      <th>Desvio Padrão</th>\n",
              "      <th>Amostras</th>\n",
              "      <th>Variabilidade (%)</th>\n",
              "      <th>p-Valor (normal test)</th>\n",
              "      <th>É Normal? (95% signif.)</th>\n",
              "    </tr>\n",
              "  </thead>\n",
              "  <tbody>\n",
              "    <tr>\n",
              "      <th>0</th>\n",
              "      <td>2017</td>\n",
              "      <td>3.153090</td>\n",
              "      <td>0.417846</td>\n",
              "      <td>155</td>\n",
              "      <td>13.251937</td>\n",
              "      <td>0.055735</td>\n",
              "      <td>Sim</td>\n",
              "    </tr>\n",
              "    <tr>\n",
              "      <th>1</th>\n",
              "      <td>2018</td>\n",
              "      <td>3.171047</td>\n",
              "      <td>0.429366</td>\n",
              "      <td>149</td>\n",
              "      <td>13.540194</td>\n",
              "      <td>0.038369</td>\n",
              "      <td>Não</td>\n",
              "    </tr>\n",
              "    <tr>\n",
              "      <th>2</th>\n",
              "      <td>2019</td>\n",
              "      <td>3.200630</td>\n",
              "      <td>0.430789</td>\n",
              "      <td>143</td>\n",
              "      <td>13.459519</td>\n",
              "      <td>0.024888</td>\n",
              "      <td>Não</td>\n",
              "    </tr>\n",
              "    <tr>\n",
              "      <th>3</th>\n",
              "      <td>2020</td>\n",
              "      <td>3.252429</td>\n",
              "      <td>0.389586</td>\n",
              "      <td>133</td>\n",
              "      <td>11.978324</td>\n",
              "      <td>0.136786</td>\n",
              "      <td>Sim</td>\n",
              "    </tr>\n",
              "  </tbody>\n",
              "</table>\n",
              "</div>\n",
              "      <button class=\"colab-df-convert\" onclick=\"convertToInteractive('df-f35c0a62-7d6b-40b5-a2e2-30479b9bd63c')\"\n",
              "              title=\"Convert this dataframe to an interactive table.\"\n",
              "              style=\"display:none;\">\n",
              "        \n",
              "  <svg xmlns=\"http://www.w3.org/2000/svg\" height=\"24px\"viewBox=\"0 0 24 24\"\n",
              "       width=\"24px\">\n",
              "    <path d=\"M0 0h24v24H0V0z\" fill=\"none\"/>\n",
              "    <path d=\"M18.56 5.44l.94 2.06.94-2.06 2.06-.94-2.06-.94-.94-2.06-.94 2.06-2.06.94zm-11 1L8.5 8.5l.94-2.06 2.06-.94-2.06-.94L8.5 2.5l-.94 2.06-2.06.94zm10 10l.94 2.06.94-2.06 2.06-.94-2.06-.94-.94-2.06-.94 2.06-2.06.94z\"/><path d=\"M17.41 7.96l-1.37-1.37c-.4-.4-.92-.59-1.43-.59-.52 0-1.04.2-1.43.59L10.3 9.45l-7.72 7.72c-.78.78-.78 2.05 0 2.83L4 21.41c.39.39.9.59 1.41.59.51 0 1.02-.2 1.41-.59l7.78-7.78 2.81-2.81c.8-.78.8-2.07 0-2.86zM5.41 20L4 18.59l7.72-7.72 1.47 1.35L5.41 20z\"/>\n",
              "  </svg>\n",
              "      </button>\n",
              "      \n",
              "  <style>\n",
              "    .colab-df-container {\n",
              "      display:flex;\n",
              "      flex-wrap:wrap;\n",
              "      gap: 12px;\n",
              "    }\n",
              "\n",
              "    .colab-df-convert {\n",
              "      background-color: #E8F0FE;\n",
              "      border: none;\n",
              "      border-radius: 50%;\n",
              "      cursor: pointer;\n",
              "      display: none;\n",
              "      fill: #1967D2;\n",
              "      height: 32px;\n",
              "      padding: 0 0 0 0;\n",
              "      width: 32px;\n",
              "    }\n",
              "\n",
              "    .colab-df-convert:hover {\n",
              "      background-color: #E2EBFA;\n",
              "      box-shadow: 0px 1px 2px rgba(60, 64, 67, 0.3), 0px 1px 3px 1px rgba(60, 64, 67, 0.15);\n",
              "      fill: #174EA6;\n",
              "    }\n",
              "\n",
              "    [theme=dark] .colab-df-convert {\n",
              "      background-color: #3B4455;\n",
              "      fill: #D2E3FC;\n",
              "    }\n",
              "\n",
              "    [theme=dark] .colab-df-convert:hover {\n",
              "      background-color: #434B5C;\n",
              "      box-shadow: 0px 1px 3px 1px rgba(0, 0, 0, 0.15);\n",
              "      filter: drop-shadow(0px 1px 2px rgba(0, 0, 0, 0.3));\n",
              "      fill: #FFFFFF;\n",
              "    }\n",
              "  </style>\n",
              "\n",
              "      <script>\n",
              "        const buttonEl =\n",
              "          document.querySelector('#df-f35c0a62-7d6b-40b5-a2e2-30479b9bd63c button.colab-df-convert');\n",
              "        buttonEl.style.display =\n",
              "          google.colab.kernel.accessAllowed ? 'block' : 'none';\n",
              "\n",
              "        async function convertToInteractive(key) {\n",
              "          const element = document.querySelector('#df-f35c0a62-7d6b-40b5-a2e2-30479b9bd63c');\n",
              "          const dataTable =\n",
              "            await google.colab.kernel.invokeFunction('convertToInteractive',\n",
              "                                                     [key], {});\n",
              "          if (!dataTable) return;\n",
              "\n",
              "          const docLinkHtml = 'Like what you see? Visit the ' +\n",
              "            '<a target=\"_blank\" href=https://colab.research.google.com/notebooks/data_table.ipynb>data table notebook</a>'\n",
              "            + ' to learn more about interactive tables.';\n",
              "          element.innerHTML = '';\n",
              "          dataTable['output_type'] = 'display_data';\n",
              "          await google.colab.output.renderOutput(dataTable, element);\n",
              "          const docLink = document.createElement('div');\n",
              "          docLink.innerHTML = docLinkHtml;\n",
              "          element.appendChild(docLink);\n",
              "        }\n",
              "      </script>\n",
              "    </div>\n",
              "  </div>\n",
              "  "
            ]
          },
          "metadata": {},
          "execution_count": 114
        }
      ]
    },
    {
      "cell_type": "markdown",
      "source": [
        "### T-STUDENT"
      ],
      "metadata": {
        "id": "EkC6EYV8ZDwz"
      }
    },
    {
      "cell_type": "code",
      "source": [
        "lista_tstudent = ['-']\n",
        "lista_tcrit_2caudas = ['-']\n",
        "lista_p_2caudas = ['-']\n",
        "lista_tstudent_bool = ['-']\n",
        "\n",
        "for n in range(1, len(df_resumo.index)):\n",
        "  t = abs(df_resumo['Média'][n] - df_resumo['Média'][n-1]) / ((df_resumo['Desvio Padrão'][n]/df_resumo['Amostras'][n] + df_resumo['Desvio Padrão'][n-1]/df_resumo['Amostras'][n-1]) ** 0.5)\n",
        "\n",
        "  lista_tstudent.append(t) # valor t\n",
        "  lista_tcrit_2caudas.append(stats.t.ppf(q=0.975, df=12)) # t critico pra curva de 2 caudas\n",
        "  pvalor = 2*(1-stats.t.cdf(x=t, df=12))  # p pra curva de 2 caudas\n",
        "  lista_p_2caudas.append(pvalor) \n",
        "  if pvalor > significancia:\n",
        "    lista_tstudent_bool.append('Não')\n",
        "  else:\n",
        "    lista_tstudent_bool.append('Sim')\n",
        "\n",
        "\n",
        "df_resumo['Valor t'] = lista_tstudent\n",
        "df_resumo['Valor t-crít'] = lista_tcrit_2caudas\n",
        "df_resumo['Valor p (Comparação)'] = lista_p_2caudas\n",
        "df_resumo['Preço Mudou? (95% signif.)'] = lista_tstudent_bool"
      ],
      "metadata": {
        "id": "1YVsfrFLZGo8"
      },
      "execution_count": 115,
      "outputs": []
    },
    {
      "cell_type": "markdown",
      "source": [
        "### TESTE F"
      ],
      "metadata": {
        "id": "uKoxpRGGQclP"
      }
    },
    {
      "cell_type": "code",
      "source": [
        "# AINDA NÃO FOI PROJETADO"
      ],
      "metadata": {
        "id": "cD0feXTywXpU"
      },
      "execution_count": 116,
      "outputs": []
    },
    {
      "cell_type": "markdown",
      "source": [
        "##**RESULTADOS**"
      ],
      "metadata": {
        "id": "vOheQ4eCweED"
      }
    },
    {
      "cell_type": "markdown",
      "source": [
        "###**GERAÇÃO DE GRÁFICOS**\n"
      ],
      "metadata": {
        "id": "b-jCE1FcuKdy"
      }
    },
    {
      "cell_type": "code",
      "source": [
        "for i in df.columns:\n",
        "  if i == 'País':\n",
        "    pass\n",
        "  else:\n",
        "    fig, ax = plt.subplots()\n",
        "    ax.hist(df[i], bins=50, density=True, color='gray',histtype = 'bar')\n",
        "\n",
        "    ax.set_title(\"Preço de Dieta Saudável Mundial Média - Ano de \" + str(i))\n",
        "    ax.set_ylabel('Densidade de Probabilidade')\n",
        "    ax.set_xlabel('Preço')\n",
        "    fig.savefig(bd_geral + \"Imagens/histograma_PreçoComida_anos_\" + str(i) + \".png\", dpi=300)  "
      ],
      "metadata": {
        "colab": {
          "base_uri": "https://localhost:8080/",
          "height": 1000
        },
        "id": "jIxiUVVDwYLK",
        "outputId": "bae33932-cc83-46df-fcf2-615c283aa68f"
      },
      "execution_count": 117,
      "outputs": [
        {
          "output_type": "display_data",
          "data": {
            "text/plain": [
              "<Figure size 432x288 with 1 Axes>"
            ],
            "image/png": "[encoded data removed]"
          },
          "metadata": {
            "needs_background": "light"
          }
        },
        {
          "output_type": "display_data",
          "data": {
            "text/plain": [
              "<Figure size 432x288 with 1 Axes>"
            ],
            "image/png": "[encoded data removed]"
          },
          "metadata": {
            "needs_background": "light"
          }
        },
        {
          "output_type": "display_data",
          "data": {
            "text/plain": [
              "<Figure size 432x288 with 1 Axes>"
            ],
            "image/png": "[encoded data removed]"
          },
          "metadata": {
            "needs_background": "light"
          }
        },
        {
          "output_type": "display_data",
          "data": {
            "text/plain": [
              "<Figure size 432x288 with 1 Axes>"
            ],
            "image/png": "[encoded data removed]"
          },
          "metadata": {
            "needs_background": "light"
          }
        }
      ]
    },
    {
      "cell_type": "markdown",
      "source": [
        "###**GERAÇÃO DE TABELAS**"
      ],
      "metadata": {
        "id": "pMo7NQ0auNRr"
      }
    },
    {
      "cell_type": "code",
      "source": [
        "df_resumo"
      ],
      "metadata": {
        "colab": {
          "base_uri": "https://localhost:8080/",
          "height": 175
        },
        "id": "I-PJBpPctnMZ",
        "outputId": "f4666f17-0106-461b-8a79-3ccc4c49b809"
      },
      "execution_count": 118,
      "outputs": [
        {
          "output_type": "execute_result",
          "data": {
            "text/plain": [
              "    Ano     Média  Desvio Padrão  Amostras  Variabilidade (%)  \\\n",
              "0  2017  3.153090       0.417846       155          13.251937   \n",
              "1  2018  3.171047       0.429366       149          13.540194   \n",
              "2  2019  3.200630       0.430789       143          13.459519   \n",
              "3  2020  3.252429       0.389586       133          11.978324   \n",
              "\n",
              "   p-Valor (normal test) É Normal? (95% signif.)   Valor t Valor t-crít  \\\n",
              "0               0.055735                     Sim         -            -   \n",
              "1               0.038369                     Não  0.240441     2.178813   \n",
              "2               0.024888                     Não   0.38533     2.178813   \n",
              "3               0.136786                     Sim  0.671987     2.178813   \n",
              "\n",
              "  Valor p (Comparação) Preço Mudou? (95% signif.)  \n",
              "0                    -                          -  \n",
              "1             0.814047                        Não  \n",
              "2             0.706736                        Não  \n",
              "3             0.514322                        Não  "
            ],
            "text/html": [
              "\n",
              "  <div id=\"df-aa145db0-1e33-4631-bfa2-c066406773b2\">\n",
              "    <div class=\"colab-df-container\">\n",
              "      <div>\n",
              "<style scoped>\n",
              "    .dataframe tbody tr th:only-of-type {\n",
              "        vertical-align: middle;\n",
              "    }\n",
              "\n",
              "    .dataframe tbody tr th {\n",
              "        vertical-align: top;\n",
              "    }\n",
              "\n",
              "    .dataframe thead th {\n",
              "        text-align: right;\n",
              "    }\n",
              "</style>\n",
              "<table border=\"1\" class=\"dataframe\">\n",
              "  <thead>\n",
              "    <tr style=\"text-align: right;\">\n",
              "      <th></th>\n",
              "      <th>Ano</th>\n",
              "      <th>Média</th>\n",
              "      <th>Desvio Padrão</th>\n",
              "      <th>Amostras</th>\n",
              "      <th>Variabilidade (%)</th>\n",
              "      <th>p-Valor (normal test)</th>\n",
              "      <th>É Normal? (95% signif.)</th>\n",
              "      <th>Valor t</th>\n",
              "      <th>Valor t-crít</th>\n",
              "      <th>Valor p (Comparação)</th>\n",
              "      <th>Preço Mudou? (95% signif.)</th>\n",
              "    </tr>\n",
              "  </thead>\n",
              "  <tbody>\n",
              "    <tr>\n",
              "      <th>0</th>\n",
              "      <td>2017</td>\n",
              "      <td>3.153090</td>\n",
              "      <td>0.417846</td>\n",
              "      <td>155</td>\n",
              "      <td>13.251937</td>\n",
              "      <td>0.055735</td>\n",
              "      <td>Sim</td>\n",
              "      <td>-</td>\n",
              "      <td>-</td>\n",
              "      <td>-</td>\n",
              "      <td>-</td>\n",
              "    </tr>\n",
              "    <tr>\n",
              "      <th>1</th>\n",
              "      <td>2018</td>\n",
              "      <td>3.171047</td>\n",
              "      <td>0.429366</td>\n",
              "      <td>149</td>\n",
              "      <td>13.540194</td>\n",
              "      <td>0.038369</td>\n",
              "      <td>Não</td>\n",
              "      <td>0.240441</td>\n",
              "      <td>2.178813</td>\n",
              "      <td>0.814047</td>\n",
              "      <td>Não</td>\n",
              "    </tr>\n",
              "    <tr>\n",
              "      <th>2</th>\n",
              "      <td>2019</td>\n",
              "      <td>3.200630</td>\n",
              "      <td>0.430789</td>\n",
              "      <td>143</td>\n",
              "      <td>13.459519</td>\n",
              "      <td>0.024888</td>\n",
              "      <td>Não</td>\n",
              "      <td>0.38533</td>\n",
              "      <td>2.178813</td>\n",
              "      <td>0.706736</td>\n",
              "      <td>Não</td>\n",
              "    </tr>\n",
              "    <tr>\n",
              "      <th>3</th>\n",
              "      <td>2020</td>\n",
              "      <td>3.252429</td>\n",
              "      <td>0.389586</td>\n",
              "      <td>133</td>\n",
              "      <td>11.978324</td>\n",
              "      <td>0.136786</td>\n",
              "      <td>Sim</td>\n",
              "      <td>0.671987</td>\n",
              "      <td>2.178813</td>\n",
              "      <td>0.514322</td>\n",
              "      <td>Não</td>\n",
              "    </tr>\n",
              "  </tbody>\n",
              "</table>\n",
              "</div>\n",
              "      <button class=\"colab-df-convert\" onclick=\"convertToInteractive('df-aa145db0-1e33-4631-bfa2-c066406773b2')\"\n",
              "              title=\"Convert this dataframe to an interactive table.\"\n",
              "              style=\"display:none;\">\n",
              "        \n",
              "  <svg xmlns=\"http://www.w3.org/2000/svg\" height=\"24px\"viewBox=\"0 0 24 24\"\n",
              "       width=\"24px\">\n",
              "    <path d=\"M0 0h24v24H0V0z\" fill=\"none\"/>\n",
              "    <path d=\"M18.56 5.44l.94 2.06.94-2.06 2.06-.94-2.06-.94-.94-2.06-.94 2.06-2.06.94zm-11 1L8.5 8.5l.94-2.06 2.06-.94-2.06-.94L8.5 2.5l-.94 2.06-2.06.94zm10 10l.94 2.06.94-2.06 2.06-.94-2.06-.94-.94-2.06-.94 2.06-2.06.94z\"/><path d=\"M17.41 7.96l-1.37-1.37c-.4-.4-.92-.59-1.43-.59-.52 0-1.04.2-1.43.59L10.3 9.45l-7.72 7.72c-.78.78-.78 2.05 0 2.83L4 21.41c.39.39.9.59 1.41.59.51 0 1.02-.2 1.41-.59l7.78-7.78 2.81-2.81c.8-.78.8-2.07 0-2.86zM5.41 20L4 18.59l7.72-7.72 1.47 1.35L5.41 20z\"/>\n",
              "  </svg>\n",
              "      </button>\n",
              "      \n",
              "  <style>\n",
              "    .colab-df-container {\n",
              "      display:flex;\n",
              "      flex-wrap:wrap;\n",
              "      gap: 12px;\n",
              "    }\n",
              "\n",
              "    .colab-df-convert {\n",
              "      background-color: #E8F0FE;\n",
              "      border: none;\n",
              "      border-radius: 50%;\n",
              "      cursor: pointer;\n",
              "      display: none;\n",
              "      fill: #1967D2;\n",
              "      height: 32px;\n",
              "      padding: 0 0 0 0;\n",
              "      width: 32px;\n",
              "    }\n",
              "\n",
              "    .colab-df-convert:hover {\n",
              "      background-color: #E2EBFA;\n",
              "      box-shadow: 0px 1px 2px rgba(60, 64, 67, 0.3), 0px 1px 3px 1px rgba(60, 64, 67, 0.15);\n",
              "      fill: #174EA6;\n",
              "    }\n",
              "\n",
              "    [theme=dark] .colab-df-convert {\n",
              "      background-color: #3B4455;\n",
              "      fill: #D2E3FC;\n",
              "    }\n",
              "\n",
              "    [theme=dark] .colab-df-convert:hover {\n",
              "      background-color: #434B5C;\n",
              "      box-shadow: 0px 1px 3px 1px rgba(0, 0, 0, 0.15);\n",
              "      filter: drop-shadow(0px 1px 2px rgba(0, 0, 0, 0.3));\n",
              "      fill: #FFFFFF;\n",
              "    }\n",
              "  </style>\n",
              "\n",
              "      <script>\n",
              "        const buttonEl =\n",
              "          document.querySelector('#df-aa145db0-1e33-4631-bfa2-c066406773b2 button.colab-df-convert');\n",
              "        buttonEl.style.display =\n",
              "          google.colab.kernel.accessAllowed ? 'block' : 'none';\n",
              "\n",
              "        async function convertToInteractive(key) {\n",
              "          const element = document.querySelector('#df-aa145db0-1e33-4631-bfa2-c066406773b2');\n",
              "          const dataTable =\n",
              "            await google.colab.kernel.invokeFunction('convertToInteractive',\n",
              "                                                     [key], {});\n",
              "          if (!dataTable) return;\n",
              "\n",
              "          const docLinkHtml = 'Like what you see? Visit the ' +\n",
              "            '<a target=\"_blank\" href=https://colab.research.google.com/notebooks/data_table.ipynb>data table notebook</a>'\n",
              "            + ' to learn more about interactive tables.';\n",
              "          element.innerHTML = '';\n",
              "          dataTable['output_type'] = 'display_data';\n",
              "          await google.colab.output.renderOutput(dataTable, element);\n",
              "          const docLink = document.createElement('div');\n",
              "          docLink.innerHTML = docLinkHtml;\n",
              "          element.appendChild(docLink);\n",
              "        }\n",
              "      </script>\n",
              "    </div>\n",
              "  </div>\n",
              "  "
            ]
          },
          "metadata": {},
          "execution_count": 118
        }
      ]
    },
    {
      "cell_type": "code",
      "source": [
        "df_resumo.to_excel(bd_geral + \"Planilhas/resumo.xlsx\")  "
      ],
      "metadata": {
        "id": "rg-yxqv5LBkV"
      },
      "execution_count": 119,
      "outputs": []
    },
    {
      "cell_type": "markdown",
      "source": [
        "## **FINALIZAÇÃO DO SCRIPT**"
      ],
      "metadata": {
        "id": "gnuaEIZQuDQn"
      }
    },
    {
      "cell_type": "code",
      "source": [
        "# Cronometra o tempo de execução do programa\n",
        "\n",
        "end_script = time.time()\n",
        "print('Tempo do script {:.2f} segundos'.format((end_script - start_script)))"
      ],
      "metadata": {
        "colab": {
          "base_uri": "https://localhost:8080/"
        },
        "id": "kuk5e7LhtikF",
        "outputId": "acf5e1cf-a7ce-41d4-ba7a-159a442bd591"
      },
      "execution_count": 120,
      "outputs": [
        {
          "output_type": "stream",
          "name": "stdout",
          "text": [
            "Tempo do script 4.02 segundos\n"
          ]
        }
      ]
    }
  ]
}